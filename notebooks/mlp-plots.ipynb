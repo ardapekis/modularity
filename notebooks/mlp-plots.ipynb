{
 "cells": [
  {
   "cell_type": "markdown",
   "metadata": {},
   "source": [
    "# ICML Paper Plots (without Lesion Test)"
   ]
  },
  {
   "cell_type": "code",
   "execution_count": 1,
   "metadata": {},
   "outputs": [
    {
     "name": "stderr",
     "output_type": "stream",
     "text": [
      "/home/arda/.miniconda3/envs/mod/lib/python3.7/site-packages/sklearn/utils/deprecation.py:143: FutureWarning: The sklearn.neighbors.kde module is  deprecated in version 0.22 and will be removed in version 0.24. The corresponding classes / functions should instead be imported from sklearn.neighbors. Anything that cannot be imported from sklearn.neighbors is now part of the private API.\n",
      "  warnings.warn(message, FutureWarning)\n",
      "/home/arda/.miniconda3/envs/mod/lib/python3.7/site-packages/tensorflow/python/framework/dtypes.py:516: FutureWarning: Passing (type, 1) or '1type' as a synonym of type is deprecated; in a future version of numpy, it will be understood as (type, (1,)) / '(1,)type'.\n",
      "  _np_qint8 = np.dtype([(\"qint8\", np.int8, 1)])\n",
      "/home/arda/.miniconda3/envs/mod/lib/python3.7/site-packages/tensorflow/python/framework/dtypes.py:517: FutureWarning: Passing (type, 1) or '1type' as a synonym of type is deprecated; in a future version of numpy, it will be understood as (type, (1,)) / '(1,)type'.\n",
      "  _np_quint8 = np.dtype([(\"quint8\", np.uint8, 1)])\n",
      "/home/arda/.miniconda3/envs/mod/lib/python3.7/site-packages/tensorflow/python/framework/dtypes.py:518: FutureWarning: Passing (type, 1) or '1type' as a synonym of type is deprecated; in a future version of numpy, it will be understood as (type, (1,)) / '(1,)type'.\n",
      "  _np_qint16 = np.dtype([(\"qint16\", np.int16, 1)])\n",
      "/home/arda/.miniconda3/envs/mod/lib/python3.7/site-packages/tensorflow/python/framework/dtypes.py:519: FutureWarning: Passing (type, 1) or '1type' as a synonym of type is deprecated; in a future version of numpy, it will be understood as (type, (1,)) / '(1,)type'.\n",
      "  _np_quint16 = np.dtype([(\"quint16\", np.uint16, 1)])\n",
      "/home/arda/.miniconda3/envs/mod/lib/python3.7/site-packages/tensorflow/python/framework/dtypes.py:520: FutureWarning: Passing (type, 1) or '1type' as a synonym of type is deprecated; in a future version of numpy, it will be understood as (type, (1,)) / '(1,)type'.\n",
      "  _np_qint32 = np.dtype([(\"qint32\", np.int32, 1)])\n",
      "/home/arda/.miniconda3/envs/mod/lib/python3.7/site-packages/tensorflow/python/framework/dtypes.py:525: FutureWarning: Passing (type, 1) or '1type' as a synonym of type is deprecated; in a future version of numpy, it will be understood as (type, (1,)) / '(1,)type'.\n",
      "  np_resource = np.dtype([(\"resource\", np.ubyte, 1)])\n",
      "WARNING - root - Added new config entry: \"conv_dropout_rate\"\n",
      "WARNING - root - Added new config entry: \"dense_dropout_rate\"\n",
      "WARNING - root - Added new config entry: \"dropout_rate\"\n",
      "WARNING - root - Added new config entry: \"model_params.conv\"\n",
      "WARNING - root - Added new config entry: \"model_params.dense\"\n",
      "WARNING - root - Added new config entry: \"model_params.widths\"\n",
      "WARNING - root - Added new config entry: \"pruning_epochs\"\n",
      "INFO - training - Running command 'run'\n",
      "INFO - training - Started run with ID \"5\"\n",
      "INFO - training - Completed after 0:00:00\n"
     ]
    }
   ],
   "source": [
    "import sys\n",
    "sys.path.append('..')\n",
    "\n",
    "import pickle\n",
    "\n",
    "import numpy as np\n",
    "from tqdm import trange\n",
    "import matplotlib.pylab as plt\n",
    "import seaborn as sns\n",
    "import pandas as pd\n",
    "from tqdm import tqdm\n",
    "\n",
    "from src.experiment_tagging import get_model_path\n",
    "from src.visualization import run_spectral_cluster\n",
    "from src.random_init import compute_ncut_random_init_mlp\n",
    "from src.utils import cohen_d, cohen_d_stats"
   ]
  },
  {
   "cell_type": "code",
   "execution_count": 2,
   "metadata": {},
   "outputs": [],
   "source": [
    "N_MODELS = 10\n",
    "N_SHUFFLES = 320"
   ]
  },
  {
   "cell_type": "markdown",
   "metadata": {},
   "source": [
    "## 1. Primary Models (`ncut` vs. `acc`)"
   ]
  },
  {
   "cell_type": "code",
   "execution_count": 10,
   "metadata": {},
   "outputs": [],
   "source": [
    "def training_text(is_pruned, is_dropout):\n",
    "    pruned_text = ('w/' if is_pruned else 'w/o')\n",
    "    dropout_text = ('w/' if is_dropout else 'w/o')\n",
    "    return f'{pruned_text} pruning ; {dropout_text} dropout'"
   ]
  },
  {
   "cell_type": "code",
   "execution_count": 11,
   "metadata": {},
   "outputs": [],
   "source": [
    "\"\"\"\n",
    "clustering_stability_statistics = pd.concat([pd.read_csv('../results/mlp-clustering-stability-statistics.csv').assign(is_pruned=True),\n",
    "                                             pd.read_csv('../results/mlp-clustering-stability-statistics-unpruned.csv').assign(is_pruned=False)\n",
    "                                            ], sort=False)\n",
    "\"\"\"\n",
    "\n",
    "clustering_stability_statistics = pd.concat([pd.read_csv('../results/mlp-clustering-stability-two-shuffling-methods-all-samples.csv').assign(is_pruned=True),\n",
    "                                             pd.read_csv('../results/mlp-clustering-stability-all-samples-unpruned.csv').assign(is_pruned=False)\n",
    "                                            ], sort=False)\n",
    "\n",
    "\n",
    "                   \n",
    "clustering_stability_statistics['is_dropout'] = clustering_stability_statistics['model'].str.contains('DROPOUT')\n",
    "clustering_stability_statistics['Dataset'] = clustering_stability_statistics['model'].str.split('+').str[0]\n",
    "\n",
    "clustering_stability_statistics['Training'] = clustering_stability_statistics.apply(lambda r: \n",
    "                                                                                    training_text(r['is_pruned'], r['is_dropout']),\n",
    "                                                                                    axis=1)\n",
    "\n",
    "PRIMARY_DATASETS = ['MNIST', 'FASHION', 'CIFAR10']\n",
    "\n",
    "primary_models_df = clustering_stability_statistics[clustering_stability_statistics['Dataset'].isin(PRIMARY_DATASETS)]\n",
    "\n",
    "primary_models_df = primary_models_df[['model', 'Dataset', 'Training',\n",
    "                                                     'is_pruned', 'is_dropout', 'ncut', 'test_acc']]\n",
    "primary_models_df = primary_models_df.drop('model', axis=1)"
   ]
  },
  {
   "cell_type": "code",
   "execution_count": 12,
   "metadata": {},
   "outputs": [],
   "source": [
    "sns.set(font_scale=1.5)\n",
    "sns.set_style('whitegrid')"
   ]
  },
  {
   "cell_type": "code",
   "execution_count": 13,
   "metadata": {},
   "outputs": [
    {
     "data": {
      "image/png": "[encoded data removed]",
      "text/plain": [
       "<Figure size 288x72 with 1 Axes>"
      ]
     },
     "metadata": {},
     "output_type": "display_data"
    },
    {
     "data": {
      "image/png": "[encoded data removed]",
      "text/plain": [
       "<Figure size 720x720 with 1 Axes>"
      ]
     },
     "metadata": {},
     "output_type": "display_data"
    }
   ],
   "source": [
    "# reorder colors to make sure that red-green and blue-orange do not overlap\n",
    "# refactor that with color names!\n",
    "#pruning_dropout_palette = sns.color_palette()\n",
    "#pruning_dropout_palette = pruning_dropout_palette[3], pruning_dropout_palette[2], pruning_dropout_palette[0], pruning_dropout_palette[1]\n",
    "pruning_dropout_palette = sns.color_palette('cubehelix', 4)\n",
    "\n",
    "sns.palplot(pruning_dropout_palette)\n",
    "\n",
    "\n",
    "f, ax = plt.subplots(1, figsize=(10, 10))\n",
    "g = sns.scatterplot(x='ncut',\n",
    "                y='test_acc',\n",
    "                style='Dataset',\n",
    "                hue='Training',\n",
    "               hue_order=['w/o pruning ; w/o dropout',\n",
    "                           'w/o pruning ; w/ dropout',\n",
    "                             'w/ pruning ; w/o dropout',\n",
    "                             'w/ pruning ; w/ dropout'],\n",
    "             style_order=['MNIST',\n",
    "                           'FASHION',\n",
    "                             'CIFAR10'],\n",
    "                s=170,\n",
    "                palette=pruning_dropout_palette,\n",
    "                data=primary_models_df, ax=ax)\n",
    "\n",
    "#handles, labels = ax.get_legend_handles_labels()\n",
    "#ax.legend(handles=handles[1:], labels=labels[1:])\n",
    "\n",
    "#ax.legend(loc='upper left', bbox_to_anchor= (0.0, -0.2), ncol=2, \n",
    "#            borderaxespad=0, frameon=False)\n",
    "\n",
    "for lh in g.legend_.legendHandles: \n",
    "    lh._sizes = [150] \n",
    "\n",
    "# plt.title('Primary Models: N-cut and Test Accuracy')\n",
    "plt.xlabel('N-cut')\n",
    "plt.ylabel('Test Accuracy')\n",
    "plt.savefig('../plots/scatter-primary-models-numpy.png', dpi=300)"
   ]
  },
  {
   "cell_type": "code",
   "execution_count": 14,
   "metadata": {},
   "outputs": [],
   "source": [
    "# break in the middle\n",
    "# https://matplotlib.org/examples/pylab_examples/broken_axis.html"
   ]
  },
  {
   "cell_type": "markdown",
   "metadata": {},
   "source": [
    "## 2. N-cut Distribution of Shuffled Weights"
   ]
  },
  {
   "cell_type": "markdown",
   "metadata": {},
   "source": [
    "### FASHION Last (paper)"
   ]
  },
  {
   "cell_type": "code",
   "execution_count": null,
   "metadata": {},
   "outputs": [],
   "source": [
    "SHUFFLE_METHODS = ['layer',\n",
    "                   'layer_nonzero',\n",
    "                   #'layer_nonzero_distribution',\n",
    "                   #'layer_all_distribution'\n",
    "                  ]\n",
    "\n",
    "def build_model_path_for_shuffeling(model, is_pruned, is_dropout, index='last'):\n",
    "    prunability = 'pruned'\n",
    "    if not is_pruned:\n",
    "        prunability = 'un' + prunability\n",
    "\n",
    "    dataset = model.lower()\n",
    "    tag = model\n",
    "    if is_dropout:\n",
    "        tag += '+DROPOUT'\n",
    "\n",
    "    if index == 'last':\n",
    "        model_path = get_model_path(tag, filter_='last')\n",
    "    else:\n",
    "        model_path = get_model_path(tag, filter_='all')[index]\n",
    "\n",
    "    return model_path / f'{dataset}-mlp-{prunability}-weights.pckl'\n",
    "\n",
    "\n",
    "def generate_shuffled_ncuts(model_path):\n",
    "\n",
    "\n",
    "    return {shuffle_method: run_spectral_cluster(model_path,\n",
    "                                   n_samples=N_SHUFFLES,\n",
    "                                   with_shuffled_ncuts=True,\n",
    "                                   shuffle_method=shuffle_method)[1]\n",
    "               for shuffle_method in SHUFFLE_METHODS}\n",
    "\n",
    "\n",
    "def generate_all_shuffled_ncuts(filter_='last'):\n",
    "    results = {}\n",
    "\n",
    "    for model in tqdm(['CIFAR10']): #['MNIST', 'FASHION', \n",
    "        results[model] = {}\n",
    "        for is_pruned in tqdm([False, True]):\n",
    "            results[model][is_pruned] = {}\n",
    "            for is_dropout in tqdm([False, True]):\n",
    "                if filter_ == 'last':\n",
    "                    model_path_for_shuffling = build_model_path_for_shuffeling(model, is_pruned, is_dropout,\n",
    "                                                                               index='last')\n",
    "                    results[model][is_pruned][is_dropout] = generate_shuffled_ncuts(model_path_for_shuffling)\n",
    "                elif filter_ == 'all':\n",
    "                    results[model][is_pruned][is_dropout] = []\n",
    "                    for i in range(1, N_MODELS + 1):#11):\n",
    "                        model_path_for_shuffling = build_model_path_for_shuffeling(model, is_pruned, is_dropout,\n",
    "                                                                              index=-i)\n",
    "                        results[model][is_pruned][is_dropout].append(generate_shuffled_ncuts(model_path_for_shuffling))\n",
    "                        \n",
    "    return results"
   ]
  },
  {
   "cell_type": "code",
   "execution_count": null,
   "metadata": {},
   "outputs": [],
   "source": [
    "if False:\n",
    "\n",
    "    fashion_shuffled_last_results = generate_all_shuffled_ncuts(filter_='last')\n",
    "                \n",
    "    with open ('../results/mlp-shuffle-methods.pickle', 'wb') as f:\n",
    "        pickle.dump(fashion_shuffled_last_results, f)\n",
    "\n",
    "else:\n",
    "    \n",
    "    with open ('../results/mlp-shuffle-methods.pickle', 'rb') as f:\n",
    "        fashion_shuffled_last_results = pickle.load(f)"
   ]
  },
  {
   "cell_type": "code",
   "execution_count": null,
   "metadata": {},
   "outputs": [],
   "source": [
    "f, axes = plt.subplots(2, 2, figsize=(15, 10), sharex=True, sharey=True)\n",
    "\n",
    "is_pruned = True\n",
    "for is_dropout, axes_row in zip([False, True], axes):\n",
    "    for model, ax in zip(['MNIST', 'FASHION'], axes_row):\n",
    "        for shuffle_method in ['layer', 'layer_nonzero']:\n",
    "            sns.distplot(fashion_shuffled_last_results[model][is_pruned][is_dropout][shuffle_method]['shuffled_ncuts'],\n",
    "                         label=shuffle_method, hist=True, kde=True, kde_kws=dict(linewidth=4), norm_hist=True,\n",
    "                        ax=ax,\n",
    "                        )\n",
    "\n",
    "            ax.axvline(fashion_shuffled_last_results[model][is_pruned][is_dropout]['layer']['ncut'],\n",
    "                    color='black', linewidth=3)\n",
    "        ax.title.set_text(f'{model}: ' + training_text(is_pruned, is_dropout))\n",
    "        \n",
    "        ax.set_xlabel('N-cut')\n",
    "        ax.set_ylabel('Probability density')\n",
    "        \n",
    "f.tight_layout()\n",
    "\n",
    "plt.legend(loc='upper left', bbox_to_anchor= (-0.5, -0.2), ncol=2, \n",
    "           borderaxespad=0, frameon=False)\n",
    "#f.suptitle('N-cut Distribution from Monte Carlo')\n",
    "\n",
    "plt.savefig('../plots/ncut-dist-monte-carlo.png', dpi=300, bbox_inches='tight')"
   ]
  },
  {
   "cell_type": "markdown",
   "metadata": {},
   "source": [
    "### All Primary (supplemental)"
   ]
  },
  {
   "cell_type": "code",
   "execution_count": null,
   "metadata": {
    "scrolled": false
   },
   "outputs": [],
   "source": [
    "if False:\n",
    "\n",
    "    all_instances_shuffled_results = generate_all_shuffled_ncuts(filter_= 'all')\n",
    "                \n",
    "    with open ('../results/mlp-shuffle-methods-all-instances.pickle', 'wb') as f:\n",
    "        pickle.dump(all_instances_shuffled_results, f)\n",
    "\n",
    "else:\n",
    "    \n",
    "    with open ('../results/mlp-shuffle-methods-all-instances.pickle', 'rb') as f:\n",
    "        all_instances_shuffled_results = pickle.load(f)\n"
   ]
  },
  {
   "cell_type": "code",
   "execution_count": null,
   "metadata": {},
   "outputs": [],
   "source": [
    "# todo: refactor: make all of that as an iterator\n",
    "\n",
    "\n",
    "def check_if_sig(percentile, n_samples):\n",
    "    return  np.isclose(percentile,\n",
    "                       1 / (n_samples + 1))\n",
    "\n",
    "\n",
    "all_instances_shuffled_records = []\n",
    "for model in ['MNIST', 'FASHION', 'CIFAR10']:\n",
    "    for is_pruned in [False, True]:\n",
    "        for is_dropout in [False, True]:\n",
    "            for index in range(N_MODELS):\n",
    "                \n",
    "                result = all_instances_shuffled_results[model][is_pruned][is_dropout][index]\n",
    "                \n",
    "                assert result['layer']['ncut'] == result['layer_nonzero']['ncut']\n",
    "                assert result['layer']['n_samples'] == result['layer_nonzero']['n_samples']\n",
    "                assert result['layer']['train_acc'] == result['layer_nonzero']['train_acc']\n",
    "                assert result['layer']['train_loss'] == result['layer_nonzero']['train_loss']\n",
    "                assert result['layer']['test_acc'] == result['layer_nonzero']['test_acc']\n",
    "                assert result['layer']['test_loss'] == result['layer_nonzero']['test_loss']\n",
    "\n",
    "\n",
    "                all_instances_shuffled_records.append({'model': model,\n",
    "                                                       'is_pruned': is_pruned,\n",
    "                                                       'is_dropout': is_dropout,\n",
    "                                                       'instance': index,\n",
    "                                                       \n",
    "                                                       'ncut': result['layer']['ncut'],\n",
    "                                                       'n_samples': result['layer']['n_samples'],\n",
    "\n",
    "                                                       'layer-mean': result['layer']['mean'],\n",
    "                                                       'layer-stdev': result['layer']['stdev'],\n",
    "                                                       'layer-min': result['layer']['shuffled_ncuts'].min(),\n",
    "                                                       'layer-max': result['layer']['shuffled_ncuts'].max(),\n",
    "                                                       'layer-percentile': result['layer']['percentile'],\n",
    "                                                       'layer-is_sig': check_if_sig(result['layer']['percentile'],\n",
    "                                                                                     result['layer']['n_samples']),\n",
    "\n",
    "                                                       'layer_nonzero-mean': result['layer_nonzero']['mean'],\n",
    "                                                       'layer_nonzero-stdev': result['layer_nonzero']['stdev'],\n",
    "                                                       'layer_nonzero-min': result['layer_nonzero']['shuffled_ncuts'].min(),\n",
    "                                                       'layer_nonzero-max': result['layer_nonzero']['shuffled_ncuts'].max(),\n",
    "                                                       'layer_nonzero-percentile': result['layer_nonzero']['percentile'],\n",
    "                                                       'layer_nonzero-is_sig': check_if_sig(result['layer_nonzero']['percentile'],\n",
    "                                                                                             result['layer_nonzero']['n_samples']),\n",
    "\n",
    "                                                       'cohen_d': cohen_d(result['layer']['shuffled_ncuts'], result['layer_nonzero']['shuffled_ncuts'])\n",
    "                                                      })\n",
    "                \n",
    "all_instances_shuffled_df = pd.DataFrame(all_instances_shuffled_records)\n",
    "\n",
    "all_instances_shuffled_df['Training'] = all_instances_shuffled_df.apply(lambda r: training_text(r['is_pruned'],\n",
    "                                                                                                r['is_dropout']), axis=1)\n",
    "# Initialize the figure\n",
    "f, ax = plt.subplots(1, figsize=(7, 4))\n",
    "sns.despine(bottom=True, left=True)\n",
    "\n",
    "# Show each observation with a scatterplot\n",
    "sns.stripplot(x=\"cohen_d\", y=\"Training\", hue=\"model\",\n",
    "              data=all_instances_shuffled_df, dodge=True, alpha=.70, zorder=1)\n",
    "\n",
    "\n",
    "# Show the conditional means\n",
    "sns.pointplot(x=\"cohen_d\", y=\"Training\", hue=\"model\",\n",
    "              data=all_instances_shuffled_df, dodge=.532, join=False, palette=\"dark\",\n",
    "              markers=\"d\", scale=1, ci=None)\n",
    "\n",
    "plt.xlabel(\"Cohen's D [layer vs. layer_nonzero]\")\n",
    "# Improve the legend \n",
    "handles, labels = ax.get_legend_handles_labels()\n",
    "\n",
    "ax.legend(handles[3:], labels[3:], title=\"Models\",\n",
    "          handletextpad=0, columnspacing=1,\n",
    "          loc='upper center', bbox_to_anchor=(0.5, -0.3),\n",
    "          ncol=3, frameon=True)\n",
    "\n",
    "\n",
    "plt.savefig('../plots/mlp-ncut-cohens-d.png', dpi=300, bbox_inches='tight')"
   ]
  },
  {
   "cell_type": "code",
   "execution_count": null,
   "metadata": {},
   "outputs": [],
   "source": [
    "all_instances_shuffled_df.to_csv('../results/mlp-ncut-cohens-d.csv')\n",
    "\n",
    "all_instances_shuffled_df.head()"
   ]
  },
  {
   "cell_type": "markdown",
   "metadata": {},
   "source": [
    "### Distribution for all model instance of MNIST (pruning, dropout) (supplemental)"
   ]
  },
  {
   "cell_type": "code",
   "execution_count": null,
   "metadata": {},
   "outputs": [],
   "source": [
    "results_by_training = {}\n",
    "flatten_shuffled_results = []\n",
    "ncut_results = []\n",
    "\n",
    "for is_pruned in [False, True]:\n",
    "    for is_dropout in [False, True]:\n",
    "        condition = (is_pruned, is_dropout)\n",
    "        results_by_training[condition] = {'ncut': []}\n",
    "        shuffled_ncut_records = []\n",
    "        \n",
    "        for index in range(N_MODELS):\n",
    "\n",
    "            \n",
    "            mnist_results = (all_instances_shuffled_results\n",
    "                             ['MNIST']\n",
    "                             [is_pruned]\n",
    "                             [is_dropout]\n",
    "                             [index])\n",
    "            \n",
    "            results_by_training[condition]['ncut'].append(mnist_results['layer']['ncut'])\n",
    "            \n",
    "            for shuffle_method in SHUFFLE_METHODS:\n",
    "                shuffled_ncut_records.extend([{'Instance': index,\n",
    "                   'N-cut': snc,\n",
    "                    'Shuffle method': shuffle_method, \n",
    "                   } for snc in mnist_results[shuffle_method]['shuffled_ncuts']])\n",
    "\n",
    "                \n",
    "        results_by_training[condition]['df'] = pd.DataFrame(shuffled_ncut_records)"
   ]
  },
  {
   "cell_type": "code",
   "execution_count": null,
   "metadata": {
    "scrolled": false
   },
   "outputs": [],
   "source": [
    "for is_pruned in [False, True]:\n",
    "    for is_dropout in [False, True]: \n",
    "        condition = (is_pruned, is_dropout)\n",
    "\n",
    "        title = (training_text(is_pruned, is_dropout)\n",
    "                 .replace('/','-')\n",
    "                 .replace(' ', '_')\n",
    "                 .replace(';', ''))\n",
    "        \n",
    "        f, ax = plt.subplots(1, figsize=(20, 10))\n",
    "\n",
    "        sns.violinplot(y='N-cut', x='Instance',\n",
    "                       hue='Shuffle method',\n",
    "                       split=True, inner=None,\n",
    "                       width=1, linewidth=3,\n",
    "                       data=results_by_training[condition]['df'])\n",
    "        ax.grid(True)\n",
    "        #plt.xlabel('Model Instance')\n",
    "        #plt.ylabel('Ncut')\n",
    "        # plt.title(title)\n",
    "        plt.scatter(range(N_MODELS), results_by_training[condition]['ncut'], color='black', marker='x', s=200)\n",
    "        \n",
    "        plt.savefig(f'../plots/mlp-mnist-shuffled-ncuts-violin-{title}.png', dpi=300)"
   ]
  },
  {
   "cell_type": "markdown",
   "metadata": {},
   "source": [
    "## Ncut Distribution of Random Initialized Networks"
   ]
  },
  {
   "cell_type": "code",
   "execution_count": 2,
   "metadata": {},
   "outputs": [
    {
     "name": "stderr",
     "output_type": "stream",
     "text": [
      "\r",
      "  0%|          | 0/50 [00:00<?, ?it/s]"
     ]
    },
    {
     "name": "stdout",
     "output_type": "stream",
     "text": [
      "WARNING:tensorflow:From /home/arda/.miniconda3/envs/mod/lib/python3.7/site-packages/tensorflow/python/ops/init_ops.py:1251: calling VarianceScaling.__init__ (from tensorflow.python.ops.init_ops) with dtype is deprecated and will be removed in a future version.\n",
      "Instructions for updating:\n",
      "Call initializer instance with the dtype argument instead of passing it to the constructor\n"
     ]
    },
    {
     "name": "stderr",
     "output_type": "stream",
     "text": [
      "WARNING - tensorflow - From /home/arda/.miniconda3/envs/mod/lib/python3.7/site-packages/tensorflow/python/ops/init_ops.py:1251: calling VarianceScaling.__init__ (from tensorflow.python.ops.init_ops) with dtype is deprecated and will be removed in a future version.\n",
      "Instructions for updating:\n",
      "Call initializer instance with the dtype argument instead of passing it to the constructor\n",
      "INFO - save_weights - Expanding CNN layers...\n"
     ]
    },
    {
     "name": "stdout",
     "output_type": "stream",
     "text": [
      "Conv! (784, 25088)\n",
      "Conv! (25088, 25088)\n",
      "Pooling! (25088, 6272)\n",
      "Dense! (6272, 128)\n",
      "Dense! Softmax! (128, 10)\n"
     ]
    },
    {
     "name": "stderr",
     "output_type": "stream",
     "text": [
      "  2%|▏         | 1/50 [00:13<10:43, 13.12s/it]INFO - save_weights - Expanding CNN layers...\n"
     ]
    },
    {
     "name": "stdout",
     "output_type": "stream",
     "text": [
      "Conv! (784, 25088)\n",
      "Conv! (25088, 25088)\n",
      "Pooling! (25088, 6272)\n",
      "Dense! (6272, 128)\n",
      "Dense! Softmax! (128, 10)\n"
     ]
    },
    {
     "name": "stderr",
     "output_type": "stream",
     "text": [
      "  4%|▍         | 2/50 [00:23<09:45, 12.20s/it]INFO - save_weights - Expanding CNN layers...\n"
     ]
    },
    {
     "name": "stdout",
     "output_type": "stream",
     "text": [
      "Conv! (784, 25088)\n",
      "Conv! (25088, 25088)\n",
      "Pooling! (25088, 6272)\n",
      "Dense! (6272, 128)\n",
      "Dense! Softmax! (128, 10)\n"
     ]
    },
    {
     "name": "stderr",
     "output_type": "stream",
     "text": [
      "  6%|▌         | 3/50 [00:33<09:03, 11.56s/it]INFO - save_weights - Expanding CNN layers...\n"
     ]
    },
    {
     "name": "stdout",
     "output_type": "stream",
     "text": [
      "Conv! (784, 25088)\n",
      "Conv! (25088, 25088)\n",
      "Pooling! (25088, 6272)\n",
      "Dense! (6272, 128)\n",
      "Dense! Softmax! (128, 10)\n"
     ]
    },
    {
     "name": "stderr",
     "output_type": "stream",
     "text": [
      "  8%|▊         | 4/50 [00:43<08:27, 11.04s/it]INFO - save_weights - Expanding CNN layers...\n"
     ]
    },
    {
     "name": "stdout",
     "output_type": "stream",
     "text": [
      "Conv! (784, 25088)\n",
      "Conv! (25088, 25088)\n",
      "Pooling! (25088, 6272)\n",
      "Dense! (6272, 128)\n",
      "Dense! Softmax! (128, 10)\n"
     ]
    },
    {
     "name": "stderr",
     "output_type": "stream",
     "text": [
      " 10%|█         | 5/50 [00:52<08:00, 10.68s/it]INFO - save_weights - Expanding CNN layers...\n"
     ]
    },
    {
     "name": "stdout",
     "output_type": "stream",
     "text": [
      "Conv! (784, 25088)\n",
      "Conv! (25088, 25088)\n",
      "Pooling! (25088, 6272)\n",
      "Dense! (6272, 128)\n",
      "Dense! Softmax! (128, 10)\n"
     ]
    },
    {
     "name": "stderr",
     "output_type": "stream",
     "text": [
      " 12%|█▏        | 6/50 [01:02<07:38, 10.42s/it]INFO - save_weights - Expanding CNN layers...\n"
     ]
    },
    {
     "name": "stdout",
     "output_type": "stream",
     "text": [
      "Conv! (784, 25088)\n",
      "Conv! (25088, 25088)\n",
      "Pooling! (25088, 6272)\n",
      "Dense! (6272, 128)\n",
      "Dense! Softmax! (128, 10)\n"
     ]
    },
    {
     "name": "stderr",
     "output_type": "stream",
     "text": [
      " 14%|█▍        | 7/50 [01:12<07:22, 10.30s/it]INFO - save_weights - Expanding CNN layers...\n"
     ]
    },
    {
     "name": "stdout",
     "output_type": "stream",
     "text": [
      "Conv! (784, 25088)\n",
      "Conv! (25088, 25088)\n",
      "Pooling! (25088, 6272)\n",
      "Dense! (6272, 128)\n",
      "Dense! Softmax! (128, 10)\n"
     ]
    },
    {
     "name": "stderr",
     "output_type": "stream",
     "text": [
      " 16%|█▌        | 8/50 [01:22<07:08, 10.20s/it]INFO - save_weights - Expanding CNN layers...\n"
     ]
    },
    {
     "name": "stdout",
     "output_type": "stream",
     "text": [
      "Conv! (784, 25088)\n",
      "Conv! (25088, 25088)\n",
      "Pooling! (25088, 6272)\n",
      "Dense! (6272, 128)\n",
      "Dense! Softmax! (128, 10)\n"
     ]
    },
    {
     "name": "stderr",
     "output_type": "stream",
     "text": [
      " 18%|█▊        | 9/50 [01:32<06:55, 10.14s/it]INFO - save_weights - Expanding CNN layers...\n"
     ]
    },
    {
     "name": "stdout",
     "output_type": "stream",
     "text": [
      "Conv! (784, 25088)\n",
      "Conv! (25088, 25088)\n",
      "Pooling! (25088, 6272)\n",
      "Dense! (6272, 128)\n",
      "Dense! Softmax! (128, 10)\n"
     ]
    },
    {
     "name": "stderr",
     "output_type": "stream",
     "text": [
      " 20%|██        | 10/50 [01:42<06:43, 10.10s/it]INFO - save_weights - Expanding CNN layers...\n"
     ]
    },
    {
     "name": "stdout",
     "output_type": "stream",
     "text": [
      "Conv! (784, 25088)\n",
      "Conv! (25088, 25088)\n",
      "Pooling! (25088, 6272)\n",
      "Dense! (6272, 128)\n",
      "Dense! Softmax! (128, 10)\n"
     ]
    },
    {
     "name": "stderr",
     "output_type": "stream",
     "text": [
      " 22%|██▏       | 11/50 [01:52<06:33, 10.10s/it]INFO - save_weights - Expanding CNN layers...\n"
     ]
    },
    {
     "name": "stdout",
     "output_type": "stream",
     "text": [
      "Conv! (784, 25088)\n",
      "Conv! (25088, 25088)\n",
      "Pooling! (25088, 6272)\n",
      "Dense! (6272, 128)\n",
      "Dense! Softmax! (128, 10)\n"
     ]
    },
    {
     "name": "stderr",
     "output_type": "stream",
     "text": [
      " 24%|██▍       | 12/50 [02:02<06:23, 10.10s/it]INFO - save_weights - Expanding CNN layers...\n"
     ]
    },
    {
     "name": "stdout",
     "output_type": "stream",
     "text": [
      "Conv! (784, 25088)\n",
      "Conv! (25088, 25088)\n",
      "Pooling! (25088, 6272)\n",
      "Dense! (6272, 128)\n",
      "Dense! Softmax! (128, 10)\n"
     ]
    },
    {
     "name": "stderr",
     "output_type": "stream",
     "text": [
      " 26%|██▌       | 13/50 [02:13<06:13, 10.10s/it]INFO - save_weights - Expanding CNN layers...\n"
     ]
    },
    {
     "name": "stdout",
     "output_type": "stream",
     "text": [
      "Conv! (784, 25088)\n",
      "Conv! (25088, 25088)\n",
      "Pooling! (25088, 6272)\n",
      "Dense! (6272, 128)\n",
      "Dense! Softmax! (128, 10)\n"
     ]
    },
    {
     "name": "stderr",
     "output_type": "stream",
     "text": [
      " 28%|██▊       | 14/50 [02:23<06:05, 10.15s/it]INFO - save_weights - Expanding CNN layers...\n"
     ]
    },
    {
     "name": "stdout",
     "output_type": "stream",
     "text": [
      "Conv! (784, 25088)\n",
      "Conv! (25088, 25088)\n",
      "Pooling! (25088, 6272)\n",
      "Dense! (6272, 128)\n",
      "Dense! Softmax! (128, 10)\n"
     ]
    },
    {
     "name": "stderr",
     "output_type": "stream",
     "text": [
      " 30%|███       | 15/50 [02:33<05:55, 10.16s/it]INFO - save_weights - Expanding CNN layers...\n"
     ]
    },
    {
     "name": "stdout",
     "output_type": "stream",
     "text": [
      "Conv! (784, 25088)\n",
      "Conv! (25088, 25088)\n",
      "Pooling! (25088, 6272)\n",
      "Dense! (6272, 128)\n",
      "Dense! Softmax! (128, 10)\n"
     ]
    },
    {
     "name": "stderr",
     "output_type": "stream",
     "text": [
      " 32%|███▏      | 16/50 [02:43<05:46, 10.20s/it]INFO - save_weights - Expanding CNN layers...\n"
     ]
    },
    {
     "name": "stdout",
     "output_type": "stream",
     "text": [
      "Conv! (784, 25088)\n",
      "Conv! (25088, 25088)\n",
      "Pooling! (25088, 6272)\n",
      "Dense! (6272, 128)\n",
      "Dense! Softmax! (128, 10)\n"
     ]
    },
    {
     "name": "stderr",
     "output_type": "stream",
     "text": [
      " 34%|███▍      | 17/50 [02:53<05:36, 10.20s/it]INFO - save_weights - Expanding CNN layers...\n"
     ]
    },
    {
     "name": "stdout",
     "output_type": "stream",
     "text": [
      "Conv! (784, 25088)\n",
      "Conv! (25088, 25088)\n",
      "Pooling! (25088, 6272)\n",
      "Dense! (6272, 128)\n",
      "Dense! Softmax! (128, 10)\n"
     ]
    },
    {
     "name": "stderr",
     "output_type": "stream",
     "text": [
      " 36%|███▌      | 18/50 [03:04<05:25, 10.16s/it]INFO - save_weights - Expanding CNN layers...\n"
     ]
    },
    {
     "name": "stdout",
     "output_type": "stream",
     "text": [
      "Conv! (784, 25088)\n",
      "Conv! (25088, 25088)\n",
      "Pooling! (25088, 6272)\n",
      "Dense! (6272, 128)\n",
      "Dense! Softmax! (128, 10)\n"
     ]
    },
    {
     "name": "stderr",
     "output_type": "stream",
     "text": [
      " 38%|███▊      | 19/50 [03:14<05:15, 10.18s/it]INFO - save_weights - Expanding CNN layers...\n"
     ]
    },
    {
     "name": "stdout",
     "output_type": "stream",
     "text": [
      "Conv! (784, 25088)\n",
      "Conv! (25088, 25088)\n",
      "Pooling! (25088, 6272)\n",
      "Dense! (6272, 128)\n",
      "Dense! Softmax! (128, 10)\n"
     ]
    },
    {
     "name": "stderr",
     "output_type": "stream",
     "text": [
      " 40%|████      | 20/50 [03:24<05:05, 10.20s/it]INFO - save_weights - Expanding CNN layers...\n"
     ]
    },
    {
     "name": "stdout",
     "output_type": "stream",
     "text": [
      "Conv! (784, 25088)\n",
      "Conv! (25088, 25088)\n",
      "Pooling! (25088, 6272)\n",
      "Dense! (6272, 128)\n",
      "Dense! Softmax! (128, 10)\n"
     ]
    },
    {
     "name": "stderr",
     "output_type": "stream",
     "text": [
      " 42%|████▏     | 21/50 [03:34<04:55, 10.18s/it]INFO - save_weights - Expanding CNN layers...\n"
     ]
    },
    {
     "name": "stdout",
     "output_type": "stream",
     "text": [
      "Conv! (784, 25088)\n",
      "Conv! (25088, 25088)\n",
      "Pooling! (25088, 6272)\n",
      "Dense! (6272, 128)\n",
      "Dense! Softmax! (128, 10)\n"
     ]
    },
    {
     "name": "stderr",
     "output_type": "stream",
     "text": [
      " 44%|████▍     | 22/50 [03:44<04:44, 10.17s/it]INFO - save_weights - Expanding CNN layers...\n"
     ]
    },
    {
     "name": "stdout",
     "output_type": "stream",
     "text": [
      "Conv! (784, 25088)\n",
      "Conv! (25088, 25088)\n",
      "Pooling! (25088, 6272)\n",
      "Dense! (6272, 128)\n",
      "Dense! Softmax! (128, 10)\n"
     ]
    },
    {
     "name": "stderr",
     "output_type": "stream",
     "text": [
      " 46%|████▌     | 23/50 [03:55<04:35, 10.20s/it]INFO - save_weights - Expanding CNN layers...\n"
     ]
    },
    {
     "name": "stdout",
     "output_type": "stream",
     "text": [
      "Conv! (784, 25088)\n",
      "Conv! (25088, 25088)\n",
      "Pooling! (25088, 6272)\n",
      "Dense! (6272, 128)\n",
      "Dense! Softmax! (128, 10)\n"
     ]
    },
    {
     "name": "stderr",
     "output_type": "stream",
     "text": [
      " 48%|████▊     | 24/50 [04:05<04:24, 10.19s/it]INFO - save_weights - Expanding CNN layers...\n"
     ]
    },
    {
     "name": "stdout",
     "output_type": "stream",
     "text": [
      "Conv! (784, 25088)\n",
      "Conv! (25088, 25088)\n",
      "Pooling! (25088, 6272)\n",
      "Dense! (6272, 128)\n",
      "Dense! Softmax! (128, 10)\n"
     ]
    },
    {
     "name": "stderr",
     "output_type": "stream",
     "text": [
      " 50%|█████     | 25/50 [04:15<04:15, 10.24s/it]INFO - save_weights - Expanding CNN layers...\n"
     ]
    },
    {
     "name": "stdout",
     "output_type": "stream",
     "text": [
      "Conv! (784, 25088)\n",
      "Conv! (25088, 25088)\n",
      "Pooling! (25088, 6272)\n",
      "Dense! (6272, 128)\n",
      "Dense! Softmax! (128, 10)\n"
     ]
    },
    {
     "name": "stderr",
     "output_type": "stream",
     "text": [
      " 52%|█████▏    | 26/50 [04:25<04:05, 10.23s/it]INFO - save_weights - Expanding CNN layers...\n"
     ]
    },
    {
     "name": "stdout",
     "output_type": "stream",
     "text": [
      "Conv! (784, 25088)\n",
      "Conv! (25088, 25088)\n",
      "Pooling! (25088, 6272)\n",
      "Dense! (6272, 128)\n",
      "Dense! Softmax! (128, 10)\n"
     ]
    },
    {
     "name": "stderr",
     "output_type": "stream",
     "text": [
      " 54%|█████▍    | 27/50 [04:36<03:55, 10.26s/it]INFO - save_weights - Expanding CNN layers...\n"
     ]
    },
    {
     "name": "stdout",
     "output_type": "stream",
     "text": [
      "Conv! (784, 25088)\n",
      "Conv! (25088, 25088)\n",
      "Pooling! (25088, 6272)\n",
      "Dense! (6272, 128)\n",
      "Dense! Softmax! (128, 10)\n"
     ]
    },
    {
     "name": "stderr",
     "output_type": "stream",
     "text": [
      " 56%|█████▌    | 28/50 [04:46<03:45, 10.24s/it]INFO - save_weights - Expanding CNN layers...\n"
     ]
    },
    {
     "name": "stdout",
     "output_type": "stream",
     "text": [
      "Conv! (784, 25088)\n",
      "Conv! (25088, 25088)\n",
      "Pooling! (25088, 6272)\n",
      "Dense! (6272, 128)\n",
      "Dense! Softmax! (128, 10)\n"
     ]
    },
    {
     "name": "stderr",
     "output_type": "stream",
     "text": [
      " 58%|█████▊    | 29/50 [04:56<03:34, 10.22s/it]INFO - save_weights - Expanding CNN layers...\n"
     ]
    },
    {
     "name": "stdout",
     "output_type": "stream",
     "text": [
      "Conv! (784, 25088)\n",
      "Conv! (25088, 25088)\n",
      "Pooling! (25088, 6272)\n",
      "Dense! (6272, 128)\n",
      "Dense! Softmax! (128, 10)\n"
     ]
    },
    {
     "name": "stderr",
     "output_type": "stream",
     "text": [
      " 60%|██████    | 30/50 [05:06<03:24, 10.20s/it]INFO - save_weights - Expanding CNN layers...\n"
     ]
    },
    {
     "name": "stdout",
     "output_type": "stream",
     "text": [
      "Conv! (784, 25088)\n",
      "Conv! (25088, 25088)\n",
      "Pooling! (25088, 6272)\n",
      "Dense! (6272, 128)\n",
      "Dense! Softmax! (128, 10)\n"
     ]
    },
    {
     "name": "stderr",
     "output_type": "stream",
     "text": [
      " 62%|██████▏   | 31/50 [05:17<03:15, 10.30s/it]INFO - save_weights - Expanding CNN layers...\n"
     ]
    },
    {
     "name": "stdout",
     "output_type": "stream",
     "text": [
      "Conv! (784, 25088)\n",
      "Conv! (25088, 25088)\n",
      "Pooling! (25088, 6272)\n",
      "Dense! (6272, 128)\n",
      "Dense! Softmax! (128, 10)\n"
     ]
    },
    {
     "name": "stderr",
     "output_type": "stream",
     "text": [
      " 64%|██████▍   | 32/50 [05:27<03:05, 10.32s/it]INFO - save_weights - Expanding CNN layers...\n"
     ]
    },
    {
     "name": "stdout",
     "output_type": "stream",
     "text": [
      "Conv! (784, 25088)\n",
      "Conv! (25088, 25088)\n",
      "Pooling! (25088, 6272)\n",
      "Dense! (6272, 128)\n",
      "Dense! Softmax! (128, 10)\n"
     ]
    },
    {
     "name": "stderr",
     "output_type": "stream",
     "text": [
      " 66%|██████▌   | 33/50 [05:37<02:54, 10.28s/it]INFO - save_weights - Expanding CNN layers...\n"
     ]
    },
    {
     "name": "stdout",
     "output_type": "stream",
     "text": [
      "Conv! (784, 25088)\n",
      "Conv! (25088, 25088)\n",
      "Pooling! (25088, 6272)\n",
      "Dense! (6272, 128)\n",
      "Dense! Softmax! (128, 10)\n"
     ]
    },
    {
     "name": "stderr",
     "output_type": "stream",
     "text": [
      " 68%|██████▊   | 34/50 [05:47<02:44, 10.28s/it]INFO - save_weights - Expanding CNN layers...\n"
     ]
    },
    {
     "name": "stdout",
     "output_type": "stream",
     "text": [
      "Conv! (784, 25088)\n",
      "Conv! (25088, 25088)\n",
      "Pooling! (25088, 6272)\n",
      "Dense! (6272, 128)\n",
      "Dense! Softmax! (128, 10)\n"
     ]
    },
    {
     "name": "stderr",
     "output_type": "stream",
     "text": [
      " 70%|███████   | 35/50 [05:58<02:35, 10.33s/it]INFO - save_weights - Expanding CNN layers...\n"
     ]
    },
    {
     "name": "stdout",
     "output_type": "stream",
     "text": [
      "Conv! (784, 25088)\n",
      "Conv! (25088, 25088)\n",
      "Pooling! (25088, 6272)\n",
      "Dense! (6272, 128)\n",
      "Dense! Softmax! (128, 10)\n"
     ]
    },
    {
     "name": "stderr",
     "output_type": "stream",
     "text": [
      " 72%|███████▏  | 36/50 [06:08<02:25, 10.37s/it]INFO - save_weights - Expanding CNN layers...\n"
     ]
    },
    {
     "name": "stdout",
     "output_type": "stream",
     "text": [
      "Conv! (784, 25088)\n",
      "Conv! (25088, 25088)\n",
      "Pooling! (25088, 6272)\n",
      "Dense! (6272, 128)\n",
      "Dense! Softmax! (128, 10)\n"
     ]
    },
    {
     "name": "stderr",
     "output_type": "stream",
     "text": [
      " 74%|███████▍  | 37/50 [06:19<02:14, 10.36s/it]INFO - save_weights - Expanding CNN layers...\n"
     ]
    },
    {
     "name": "stdout",
     "output_type": "stream",
     "text": [
      "Conv! (784, 25088)\n",
      "Conv! (25088, 25088)\n",
      "Pooling! (25088, 6272)\n",
      "Dense! (6272, 128)\n",
      "Dense! Softmax! (128, 10)\n"
     ]
    },
    {
     "name": "stderr",
     "output_type": "stream",
     "text": [
      " 76%|███████▌  | 38/50 [06:29<02:04, 10.38s/it]INFO - save_weights - Expanding CNN layers...\n"
     ]
    },
    {
     "name": "stdout",
     "output_type": "stream",
     "text": [
      "Conv! (784, 25088)\n",
      "Conv! (25088, 25088)\n",
      "Pooling! (25088, 6272)\n",
      "Dense! (6272, 128)\n",
      "Dense! Softmax! (128, 10)\n"
     ]
    },
    {
     "name": "stderr",
     "output_type": "stream",
     "text": [
      " 78%|███████▊  | 39/50 [06:40<01:54, 10.38s/it]INFO - save_weights - Expanding CNN layers...\n"
     ]
    },
    {
     "name": "stdout",
     "output_type": "stream",
     "text": [
      "Conv! (784, 25088)\n",
      "Conv! (25088, 25088)\n",
      "Pooling! (25088, 6272)\n",
      "Dense! (6272, 128)\n",
      "Dense! Softmax! (128, 10)\n"
     ]
    },
    {
     "name": "stderr",
     "output_type": "stream",
     "text": [
      " 80%|████████  | 40/50 [06:50<01:43, 10.38s/it]INFO - save_weights - Expanding CNN layers...\n"
     ]
    },
    {
     "name": "stdout",
     "output_type": "stream",
     "text": [
      "Conv! (784, 25088)\n",
      "Conv! (25088, 25088)\n",
      "Pooling! (25088, 6272)\n",
      "Dense! (6272, 128)\n",
      "Dense! Softmax! (128, 10)\n"
     ]
    },
    {
     "name": "stderr",
     "output_type": "stream",
     "text": [
      " 82%|████████▏ | 41/50 [07:01<01:34, 10.45s/it]INFO - save_weights - Expanding CNN layers...\n"
     ]
    },
    {
     "name": "stdout",
     "output_type": "stream",
     "text": [
      "Conv! (784, 25088)\n",
      "Conv! (25088, 25088)\n",
      "Pooling! (25088, 6272)\n",
      "Dense! (6272, 128)\n",
      "Dense! Softmax! (128, 10)\n"
     ]
    },
    {
     "name": "stderr",
     "output_type": "stream",
     "text": [
      " 84%|████████▍ | 42/50 [07:11<01:23, 10.46s/it]INFO - save_weights - Expanding CNN layers...\n"
     ]
    },
    {
     "name": "stdout",
     "output_type": "stream",
     "text": [
      "Conv! (784, 25088)\n",
      "Conv! (25088, 25088)\n",
      "Pooling! (25088, 6272)\n",
      "Dense! (6272, 128)\n",
      "Dense! Softmax! (128, 10)\n"
     ]
    },
    {
     "name": "stderr",
     "output_type": "stream",
     "text": [
      " 86%|████████▌ | 43/50 [07:22<01:13, 10.48s/it]INFO - save_weights - Expanding CNN layers...\n"
     ]
    },
    {
     "name": "stdout",
     "output_type": "stream",
     "text": [
      "Conv! (784, 25088)\n",
      "Conv! (25088, 25088)\n",
      "Pooling! (25088, 6272)\n",
      "Dense! (6272, 128)\n",
      "Dense! Softmax! (128, 10)\n"
     ]
    },
    {
     "name": "stderr",
     "output_type": "stream",
     "text": [
      " 88%|████████▊ | 44/50 [07:32<01:02, 10.47s/it]INFO - save_weights - Expanding CNN layers...\n"
     ]
    },
    {
     "name": "stdout",
     "output_type": "stream",
     "text": [
      "Conv! (784, 25088)\n",
      "Conv! (25088, 25088)\n",
      "Pooling! (25088, 6272)\n",
      "Dense! (6272, 128)\n",
      "Dense! Softmax! (128, 10)\n"
     ]
    },
    {
     "name": "stderr",
     "output_type": "stream",
     "text": [
      " 90%|█████████ | 45/50 [07:43<00:52, 10.50s/it]INFO - save_weights - Expanding CNN layers...\n"
     ]
    },
    {
     "name": "stdout",
     "output_type": "stream",
     "text": [
      "Conv! (784, 25088)\n",
      "Conv! (25088, 25088)\n",
      "Pooling! (25088, 6272)\n",
      "Dense! (6272, 128)\n",
      "Dense! Softmax! (128, 10)\n"
     ]
    },
    {
     "name": "stderr",
     "output_type": "stream",
     "text": [
      " 92%|█████████▏| 46/50 [07:53<00:42, 10.52s/it]INFO - save_weights - Expanding CNN layers...\n"
     ]
    },
    {
     "name": "stdout",
     "output_type": "stream",
     "text": [
      "Conv! (784, 25088)\n",
      "Conv! (25088, 25088)\n",
      "Pooling! (25088, 6272)\n",
      "Dense! (6272, 128)\n",
      "Dense! Softmax! (128, 10)\n"
     ]
    },
    {
     "name": "stderr",
     "output_type": "stream",
     "text": [
      " 94%|█████████▍| 47/50 [08:04<00:31, 10.53s/it]INFO - save_weights - Expanding CNN layers...\n"
     ]
    },
    {
     "name": "stdout",
     "output_type": "stream",
     "text": [
      "Conv! (784, 25088)\n",
      "Conv! (25088, 25088)\n",
      "Pooling! (25088, 6272)\n",
      "Dense! (6272, 128)\n",
      "Dense! Softmax! (128, 10)\n"
     ]
    },
    {
     "name": "stderr",
     "output_type": "stream",
     "text": [
      " 96%|█████████▌| 48/50 [08:14<00:21, 10.54s/it]INFO - save_weights - Expanding CNN layers...\n"
     ]
    },
    {
     "name": "stdout",
     "output_type": "stream",
     "text": [
      "Conv! (784, 25088)\n",
      "Conv! (25088, 25088)\n",
      "Pooling! (25088, 6272)\n",
      "Dense! (6272, 128)\n",
      "Dense! Softmax! (128, 10)\n"
     ]
    },
    {
     "name": "stderr",
     "output_type": "stream",
     "text": [
      " 98%|█████████▊| 49/50 [08:25<00:10, 10.56s/it]INFO - save_weights - Expanding CNN layers...\n"
     ]
    },
    {
     "name": "stdout",
     "output_type": "stream",
     "text": [
      "Conv! (784, 25088)\n",
      "Conv! (25088, 25088)\n",
      "Pooling! (25088, 6272)\n",
      "Dense! (6272, 128)\n",
      "Dense! Softmax! (128, 10)\n"
     ]
    },
    {
     "name": "stderr",
     "output_type": "stream",
     "text": [
      "100%|██████████| 50/50 [08:35<00:00, 10.32s/it]\n"
     ]
    }
   ],
   "source": [
    "from src.random_init import compute_ncut_random_init_cnn\n",
    "\n",
    "random_init_ncuts = [compute_ncut_random_init_cnn() for _ in trange(50)]"
   ]
  },
  {
   "cell_type": "code",
   "execution_count": 3,
   "metadata": {},
   "outputs": [
    {
     "name": "stderr",
     "output_type": "stream",
     "text": [
      "/home/arda/.miniconda3/envs/mod/lib/python3.7/site-packages/seaborn/distributions.py:2551: FutureWarning: `distplot` is a deprecated function and will be removed in a future version. Please adapt your code to use either `displot` (a figure-level function with similar flexibility) or `histplot` (an axes-level function for histograms).\n",
      "  warnings.warn(msg, FutureWarning)\n"
     ]
    },
    {
     "data": {
      "image/png": "[encoded data removed]",
      "text/plain": [
       "<Figure size 720x360 with 1 Axes>"
      ]
     },
     "metadata": {
      "needs_background": "light"
     },
     "output_type": "display_data"
    }
   ],
   "source": [
    "f, ax = plt.subplots(1, figsize=(10, 5))\n",
    "sns.distplot(random_init_ncuts)\n",
    "# plt.title('N-cut Distribution of Random-Initialized MLPs without any Training (200 samples)');\n",
    "\n",
    "# plt.axvline(results['FASHION'][False][False]['layer']['ncut'],\n",
    "#                    color='black', linewidth=3,\n",
    "#            label='FASHION (w/o pruning ; w/o dropout)')\n",
    "\n",
    "# plt.axvline(results['MNIST'][False][False]['layer']['ncut'],\n",
    "#                    color='black', linewidth=3,\n",
    "#           label='MNIST (w/o pruning ; w/o dropout)', linestyle='--')\n",
    "\n",
    "# plt.legend(loc='upper left', bbox_to_anchor= (0.0, -0.2), ncol=2, \n",
    "#            borderaxespad=0, frameon=False)\n",
    "\n",
    "plt.xlabel('N-cut')\n",
    "plt.ylabel('Probability density')\n",
    "\n",
    "plt.savefig('../plots/ncut-dist-random-init.png', dpi=300)"
   ]
  },
  {
   "cell_type": "markdown",
   "metadata": {},
   "source": [
    "# Dump"
   ]
  },
  {
   "cell_type": "markdown",
   "metadata": {},
   "source": [
    "## P-value Histogram"
   ]
  },
  {
   "cell_type": "code",
   "execution_count": null,
   "metadata": {},
   "outputs": [],
   "source": [
    "clustering_stability_statistics"
   ]
  },
  {
   "cell_type": "code",
   "execution_count": null,
   "metadata": {},
   "outputs": [],
   "source": [
    "f, ax = plt.subplots(1, figsize=(5, 10))\n",
    "g = sns.violinplot(x='percentile', y='model',\n",
    "                   data=clustering_stability_statistics)\n",
    "\n",
    "g.set_xscale('log')"
   ]
  },
  {
   "cell_type": "code",
   "execution_count": null,
   "metadata": {},
   "outputs": [],
   "source": [
    "#f, ax = plt.subplots(1, figsize=(5, 10))\n",
    "for d in ['CIFAR10']:\n",
    "    df = clustering_stability_statistics[(clustering_stability_statistics['Dataset'] == d)\n",
    "                                         & clustering_stability_statistics['is_pruned']\n",
    "                                         & (~clustering_stability_statistics['is_dropout'])]\n",
    "    print(d)\n",
    "    sns.distplot(df['percentile'])\n",
    "    "
   ]
  },
  {
   "cell_type": "code",
   "execution_count": null,
   "metadata": {},
   "outputs": [],
   "source": [
    "df"
   ]
  },
  {
   "cell_type": "code",
   "execution_count": null,
   "metadata": {},
   "outputs": [],
   "source": [
    "sns.distplot(df['percentile'])"
   ]
  },
  {
   "cell_type": "code",
   "execution_count": null,
   "metadata": {},
   "outputs": [],
   "source": [
    "clustering_stability_statistics"
   ]
  }
 ],
 "metadata": {
  "kernelspec": {
   "display_name": "Python (mod)",
   "language": "python",
   "name": "mod"
  },
  "language_info": {
   "codemirror_mode": {
    "name": "ipython",
    "version": 3
   },
   "file_extension": ".py",
   "mimetype": "text/x-python",
   "name": "python",
   "nbconvert_exporter": "python",
   "pygments_lexer": "ipython3",
   "version": "3.7.9"
  }
 },
 "nbformat": 4,
 "nbformat_minor": 2
}
